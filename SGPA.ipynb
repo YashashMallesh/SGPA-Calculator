{
 "cells": [
  {
   "cell_type": "code",
   "execution_count": 13,
   "id": "f88ec3f8-9e13-45b9-815f-773e60d74332",
   "metadata": {},
   "outputs": [
    {
     "name": "stdout",
     "output_type": "stream",
     "text": [
      "***Welcome to My SGPA Calculator!***\n"
     ]
    },
    {
     "name": "stdin",
     "output_type": "stream",
     "text": [
      "Enter the number of subjects:  6\n"
     ]
    },
    {
     "name": "stdout",
     "output_type": "stream",
     "text": [
      "\n",
      "Subject 1:\n"
     ]
    },
    {
     "name": "stdin",
     "output_type": "stream",
     "text": [
      "Enter subject name:  M\n",
      "Enter credits:  4\n",
      "Enter grade (A, B, C, D, E, F, G):  A\n"
     ]
    },
    {
     "name": "stdout",
     "output_type": "stream",
     "text": [
      "\n",
      "Subject 2:\n"
     ]
    },
    {
     "name": "stdin",
     "output_type": "stream",
     "text": [
      "Enter subject name:  C\n",
      "Enter credits:  4\n",
      "Enter grade (A, B, C, D, E, F, G):  A\n"
     ]
    },
    {
     "name": "stdout",
     "output_type": "stream",
     "text": [
      "\n",
      "Subject 3:\n"
     ]
    },
    {
     "name": "stdin",
     "output_type": "stream",
     "text": [
      "Enter subject name:  P\n",
      "Enter credits:  3\n",
      "Enter grade (A, B, C, D, E, F, G):  A\n"
     ]
    },
    {
     "name": "stdout",
     "output_type": "stream",
     "text": [
      "\n",
      "Subject 4:\n"
     ]
    },
    {
     "name": "stdin",
     "output_type": "stream",
     "text": [
      "Enter subject name:  E\n",
      "Enter credits:  3\n",
      "Enter grade (A, B, C, D, E, F, G):  B\n"
     ]
    },
    {
     "name": "stdout",
     "output_type": "stream",
     "text": [
      "\n",
      "Subject 5:\n"
     ]
    },
    {
     "name": "stdin",
     "output_type": "stream",
     "text": [
      "Enter subject name:  CA\n",
      "Enter credits:  3\n",
      "Enter grade (A, B, C, D, E, F, G):  B\n"
     ]
    },
    {
     "name": "stdout",
     "output_type": "stream",
     "text": [
      "\n",
      "Subject 6:\n"
     ]
    },
    {
     "name": "stdin",
     "output_type": "stream",
     "text": [
      "Enter subject name:  S\n",
      "Enter credits:  3\n",
      "Enter grade (A, B, C, D, E, F, G):  A\n"
     ]
    },
    {
     "name": "stdout",
     "output_type": "stream",
     "text": [
      "\n",
      "\n",
      "+----------------------+---------+-------+--------------+-----------+\n",
      "| Subject Name         | Credits | Grade | Grade Points | Total     |\n",
      "+----------------------+---------+-------+--------------+-----------+\n",
      "| M                    |    4    |   A   |      10      |    40     |\n",
      "| C                    |    4    |   A   |      10      |    40     |\n",
      "| P                    |    3    |   A   |      10      |    30     |\n",
      "| E                    |    3    |   B   |      9       |    27     |\n",
      "| CA                   |    3    |   B   |      9       |    27     |\n",
      "| S                    |    3    |   A   |      10      |    30     |\n",
      "+----------------------+---------+-------+--------------+-----------+\n",
      "| Total                |   20    |       |              |    194    |\n",
      "+----------------------+---------+-------+--------------+-----------+\n",
      "\n",
      "Your SGPA is: 9.70\n",
      "\n"
     ]
    }
   ],
   "source": [
    "\n",
    "import time\n",
    "\n",
    "def welcome_note():\n",
    "    message = \"***Welcome to My SGPA Calculator!***\"\n",
    "    for i in range(len(message)):\n",
    "        print(message[:i+1], end=\"\\r\")\n",
    "        time.sleep(0.05)\n",
    "    print()\n",
    "\n",
    "# Call the function to display the welcome note\n",
    "welcome_note()\n",
    "def calculate_sgpa():\n",
    "    # Dictionary to map grades to grade points\n",
    "    grade_points = {\n",
    "        'A': 10,\n",
    "        'B': 9,\n",
    "        'C': 8,\n",
    "        'D': 7,\n",
    "        'E': 6,\n",
    "        'F': 5,\n",
    "        'G': 0\n",
    "    }\n",
    "\n",
    "    # Input the number of subjects\n",
    "    num_subjects = int(input(\"Enter the number of subjects: \"))\n",
    "\n",
    "    # Initialize variables\n",
    "    total_credits = 0\n",
    "    total_grade_points = 0\n",
    "    subjects = []\n",
    "\n",
    "    # Input details for each subject\n",
    "    for i in range(num_subjects):\n",
    "        print(f\"\\nSubject {i + 1}:\")\n",
    "        subject_name = input(\"Enter subject name: \")\n",
    "        credits = int(input(\"Enter credits: \"))\n",
    "        grade = input(\"Enter grade (A, B, C, D, E, F, G): \").upper()\n",
    "\n",
    "        # Validate grade input\n",
    "        while grade not in grade_points:\n",
    "            print(\"Invalid grade! Please enter a valid grade (A, B, C, D, E, F, G).\")\n",
    "            grade = input(\"Enter grade (A, B, C, D, E, F, G): \").upper()\n",
    "\n",
    "        # Calculate grade points for the subject\n",
    "        grade_point = grade_points[grade]\n",
    "        subject_total = credits * grade_point\n",
    "\n",
    "        # Add to totals\n",
    "        total_credits += credits\n",
    "        total_grade_points += subject_total\n",
    "\n",
    "        # Store subject details\n",
    "        subjects.append({\n",
    "            'name': subject_name,\n",
    "            'credits': credits,\n",
    "            'grade': grade,\n",
    "            'grade_point': grade_point,\n",
    "            'total': subject_total\n",
    "        })\n",
    "\n",
    "    # Calculate SGPA\n",
    "    sgpa = total_grade_points / total_credits\n",
    "\n",
    "    # Display the result in a table\n",
    "    print(\"\\n\\n+----------------------+---------+-------+--------------+-----------+\")\n",
    "    print(\"| Subject Name         | Credits | Grade | Grade Points | Total     |\")\n",
    "    print(\"+----------------------+---------+-------+--------------+-----------+\")\n",
    "    for subject in subjects:\n",
    "        print(f\"| {subject['name'].ljust(20)} | {subject['credits']:^7} | {subject['grade']:^5} | {subject['grade_point']:^12} | {subject['total']:^9} |\")\n",
    "    print(\"+----------------------+---------+-------+--------------+-----------+\")\n",
    "    print(f\"| Total                | {total_credits:^7} |       |              | {total_grade_points:^9} |\")\n",
    "    print(\"+----------------------+---------+-------+--------------+-----------+\")\n",
    "    print(f\"\\nYour SGPA is: {sgpa:.2f}\\n\")\n",
    "\n",
    "\n",
    "# Run the SGPA calculator\n",
    "calculate_sgpa()"
   ]
  },
  {
   "cell_type": "code",
   "execution_count": null,
   "id": "4a788d75-621a-4422-94cf-dae59c318fa9",
   "metadata": {},
   "outputs": [],
   "source": []
  }
 ],
 "metadata": {
  "kernelspec": {
   "display_name": "Python 3 (ipykernel)",
   "language": "python",
   "name": "python3"
  },
  "language_info": {
   "codemirror_mode": {
    "name": "ipython",
    "version": 3
   },
   "file_extension": ".py",
   "mimetype": "text/x-python",
   "name": "python",
   "nbconvert_exporter": "python",
   "pygments_lexer": "ipython3",
   "version": "3.12.7"
  }
 },
 "nbformat": 4,
 "nbformat_minor": 5
}
