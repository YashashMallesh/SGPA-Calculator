https://github.com/YashashMallesh/SGPA-Calculator/blob/main/main.py
